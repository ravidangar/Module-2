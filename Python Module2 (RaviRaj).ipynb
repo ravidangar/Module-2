{
 "cells": [
  {
   "cell_type": "code",
   "execution_count": null,
   "id": "e4b294b9",
   "metadata": {},
   "outputs": [],
   "source": [
    "#Q1\n",
    "#check +,- and 0\n",
    "a=int(input())\n",
    "if a==0 :\n",
    "    print(\"this number is zero\")\n",
    "elif a<0:\n",
    "    print(\"this number is nagetiv\")\n",
    "else:\n",
    "    print(\"this number is positive\")\n",
    "    "
   ]
  },
  {
   "cell_type": "code",
   "execution_count": null,
   "id": "7a69bfcb",
   "metadata": {},
   "outputs": [],
   "source": [
    "#Q2\n",
    "#factorial number\n",
    "a=int(input())\n",
    "b=1\n",
    "for i in range(1,a+1):\n",
    "    b=b*i\n",
    "print(str(a) +\" factorial is \"+str(b)) "
   ]
  },
  {
   "cell_type": "code",
   "execution_count": null,
   "id": "df2defaa",
   "metadata": {},
   "outputs": [],
   "source": [
    "#Q3\n",
    "#Fibonacci\n",
    "a=int(input())\n",
    "b=0\n",
    "c=1\n",
    "if a==0:\n",
    "    print(\"it's me \"+str(b))\n",
    "elif a<0:\n",
    "    print(\"Number negative is \"+str(a))\n",
    "else:\n",
    "    print(b)\n",
    "    print(c)\n",
    "    for i in range(2,a+1):\n",
    "        \n",
    "        d=b+c\n",
    "        b=c\n",
    "        c=d\n",
    "        print(d)\n"
   ]
  },
  {
   "cell_type": "code",
   "execution_count": null,
   "id": "fb25507a",
   "metadata": {},
   "outputs": [],
   "source": [
    "#Q4\n",
    "#memory is managed in python\n",
    "'''In Python, the Memory manager responsible for allocating and managing the memory. \n",
    "The memory manager manages the chunks of memory. \n",
    "It can allocate a block of space in the computer memory to a program'''\n",
    "#when we see the location of value or data so we use \"id\" method\n",
    "pass"
   ]
  },
  {
   "cell_type": "code",
   "execution_count": null,
   "id": "566a0fa2",
   "metadata": {},
   "outputs": [],
   "source": [
    "#Q5\n",
    "#continue:\n",
    "#it will stop the current iteration and continue from the next one."
   ]
  },
  {
   "cell_type": "code",
   "execution_count": null,
   "id": "0c1d7dd3",
   "metadata": {},
   "outputs": [],
   "source": [
    "#Q6\n",
    "#swap whith temp variable \n",
    "a=input()\n",
    "b=input()\n",
    "c=a\n",
    "a=b\n",
    "print(a)\n",
    "b=c\n",
    "print(b)\n",
    "#swap whithout temp variable\n",
    "a=input()\n",
    "b=a\n",
    "print(b)\n",
    "b=input()\n",
    "a=b\n",
    "print(a)"
   ]
  },
  {
   "cell_type": "code",
   "execution_count": null,
   "id": "8e159df4",
   "metadata": {},
   "outputs": [],
   "source": [
    "#Q7\n",
    "#odd or even\n",
    "a=int(input())\n",
    "if a%2==1:\n",
    "    print(str(a)+\" is odd\")\n",
    "elif a==0:\n",
    "    print(\"number is \"+str(a))\n",
    "else :\n",
    "     print(str(a)+\" is even\")"
   ]
  },
  {
   "cell_type": "code",
   "execution_count": null,
   "id": "e9bb78cf",
   "metadata": {},
   "outputs": [],
   "source": [
    "#Q8\n",
    "#vowel or not vowel\n",
    "a=input()\n",
    "if a=='a'or a=='i'or a=='e'or a=='o'or a=='u':\n",
    "    print(\"latter \"+a+\" is  vowel\")  \n",
    "else:\n",
    "    print(\"latter \"+a+\" is not vowel\") "
   ]
  },
  {
   "cell_type": "code",
   "execution_count": null,
   "id": "8eb7343b",
   "metadata": {},
   "outputs": [],
   "source": [
    "#Q9\n",
    "#given 3 int sum when 2 int same o/p will be zero\n",
    "a=int(input())\n",
    "b=int(input())\n",
    "c=int(input())\n",
    "if a==b or b==c or c==a:\n",
    "    print(0)\n",
    "else:\n",
    "    print(a+b+c)\n"
   ]
  },
  {
   "cell_type": "code",
   "execution_count": null,
   "id": "5449b6aa",
   "metadata": {},
   "outputs": [],
   "source": [
    "#Q10\n",
    "#sum or def are 5 output is \"True\"\n",
    "a=input()\n",
    "b=input()\n",
    "if a+b==5 or a-b==5:\n",
    "    print(\"True\")"
   ]
  },
  {
   "cell_type": "code",
   "execution_count": null,
   "id": "e2051d68",
   "metadata": {},
   "outputs": [],
   "source": [
    "#Q11\n",
    "#sum of first n postive\n",
    "a = int(input())\n",
    " \n",
    "total =int( a * (a+1) / 2)\n",
    " \n",
    "print(\"The sum of the first\",a,\"positive integers\",total)\n"
   ]
  },
  {
   "cell_type": "code",
   "execution_count": null,
   "id": "0c11064b",
   "metadata": {},
   "outputs": [],
   "source": [
    "#Q12\n",
    "#lenth of string\n",
    "a =input()\n",
    "len(a)"
   ]
  },
  {
   "cell_type": "code",
   "execution_count": null,
   "id": "f72a70c3",
   "metadata": {},
   "outputs": [],
   "source": [
    "#13\n",
    "#count of string\n",
    "a =input()\n",
    "b =input(\"plase count this char.\")\n",
    "a.count(b)"
   ]
  },
  {
   "cell_type": "code",
   "execution_count": null,
   "id": "f6aef382",
   "metadata": {},
   "outputs": [],
   "source": [
    "#Q14\n",
    "#Negative indexes\n",
    "#Negative indexes are a way to allow\n",
    "#you to index into a list, tuple or other indexable container\n",
    "#relative to the end of the container, rather than the start.\n",
    "\n",
    "#use\n",
    "#They are used because they are more efficient and\n",
    "#are considered by much more readable.\n",
    "#some time we requred data from right to left"
   ]
  },
  {
   "cell_type": "code",
   "execution_count": null,
   "id": "4bb95f84",
   "metadata": {},
   "outputs": [],
   "source": [
    "#Q15\n",
    "#count substring\n",
    "a =input()\n",
    "b =input(\"plase count this substring.\")\n",
    "a.count(b)"
   ]
  },
  {
   "cell_type": "code",
   "execution_count": null,
   "id": "c2731d2f",
   "metadata": {},
   "outputs": [],
   "source": [
    "#Q16\n",
    "#count word\n",
    "a =input()\n",
    "b =input(\"plase count this word.\")\n",
    "a.count(b)"
   ]
  },
  {
   "cell_type": "code",
   "execution_count": null,
   "id": "2d747f0c",
   "metadata": {},
   "outputs": [],
   "source": [
    "#Q17\n",
    "#two given string separated by a space and swap the first two characters \n",
    "a=input()\n",
    "b=input()\n",
    "new_a = b[:2] + a[2:]\n",
    "new_b = a[:2] + b[2:]\n",
    "print(new_a + ' ' + new_b)"
   ]
  },
  {
   "cell_type": "code",
   "execution_count": null,
   "id": "34d97667",
   "metadata": {},
   "outputs": [],
   "source": [
    "#Q18\n",
    "#ing=ing+ly and not ing=add ing\n",
    "a =input()\n",
    "c=len(a)\n",
    "def add_ing(a):\n",
    "    b=a[-3:]\n",
    "    if c<3:\n",
    "        print(a)\n",
    "    elif b==\"ing\":\n",
    "        print(a,end=\"ly\")\n",
    "    else:\n",
    "        print(a,end=\"ing\")\n",
    "add_ing(a)        "
   ]
  },
  {
   "cell_type": "code",
   "execution_count": null,
   "id": "76afa58a",
   "metadata": {},
   "outputs": [],
   "source": [
    "#Q19\n",
    "#not...poor == good\n",
    "\n",
    "def not_poor(str1):  \n",
    "  snot = str1.find('not')  \n",
    "  sbad = str1.find('poor')  \n",
    "  \n",
    "  if sbad > snot:  \n",
    "    str1 = str1.replace(str1[snot:(sbad+4)], 'good')  \n",
    "  \n",
    "  return str1  \n",
    "print(not_poor('The lyrics is not that poor!'))  "
   ]
  },
  {
   "cell_type": "code",
   "execution_count": null,
   "id": "53e82f19",
   "metadata": {},
   "outputs": [],
   "source": [
    "#Q20\n",
    "#longest wold in this string is\n",
    "a=input()\n",
    "a=a.split()\n",
    "b=0\n",
    "for i in a:\n",
    "    if i.isalpha() and len(i)>b:\n",
    "        b=len(i)\n",
    "        j=i\n",
    "print(\"longest wold in this string is -\"+j)        "
   ]
  },
  {
   "cell_type": "code",
   "execution_count": null,
   "id": "d71ff62f",
   "metadata": {},
   "outputs": [],
   "source": [
    "#Q21\n",
    "#if string is multipal of 4 print it reverse\n",
    "a=input()\n",
    "b=len(a)\n",
    "if b%4==0:\n",
    "    print(a[::-1])"
   ]
  },
  {
   "cell_type": "code",
   "execution_count": null,
   "id": "0323dae3",
   "metadata": {},
   "outputs": [],
   "source": [
    "#Q22\n",
    "#\n",
    "a=input()\n",
    "b=len(a)\n",
    "c=a[2::]\n",
    "d=a[-2::]\n",
    "if b>2:\n",
    "    print(a.replace(c,d))\n",
    "elif b==2:\n",
    "    print(a*2)\n",
    "else:\n",
    "    print(' ')"
   ]
  },
  {
   "cell_type": "code",
   "execution_count": null,
   "id": "c5ed5f30",
   "metadata": {},
   "outputs": [],
   "source": [
    "#Q23\n",
    "# add in new word in center\n",
    "a=input()\n",
    "b=input()\n",
    "c=int((len(a)/2)+1)\n",
    "d=a[:c-1:]\n",
    "e=a[c-1::]\n",
    "print(d+b+e)"
   ]
  }
 ],
 "metadata": {
  "kernelspec": {
   "display_name": "Python 3 (ipykernel)",
   "language": "python",
   "name": "python3"
  },
  "language_info": {
   "codemirror_mode": {
    "name": "ipython",
    "version": 3
   },
   "file_extension": ".py",
   "mimetype": "text/x-python",
   "name": "python",
   "nbconvert_exporter": "python",
   "pygments_lexer": "ipython3",
   "version": "3.9.12"
  }
 },
 "nbformat": 4,
 "nbformat_minor": 5
}
